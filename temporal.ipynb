{
 "cells": [
  {
   "cell_type": "code",
   "execution_count": null,
   "metadata": {},
   "outputs": [],
   "source": [
    "import pandas as pd\n",
    "import numpy as np\n",
    "import matplotlib.pyplot as plt\n",
    "import folium\n",
    "from folium.plugins import MarkerCluster, GroupedLayerControl\n",
    "\n",
    "from data_utilities import *"
   ]
  },
  {
   "attachments": {},
   "cell_type": "markdown",
   "metadata": {},
   "source": [
    "# List of Services"
   ]
  },
  {
   "attachments": {},
   "cell_type": "markdown",
   "metadata": {},
   "source": [
    "0: Boulevard Mowing, Parks and Urban Foresty  \n",
    "1: Dog Complaint, Animal Services  \n",
    "2: Frozen Catch Basin, Street Maintenance  \n",
    "3: Graffiti, Parks and Urban Foresty  \n",
    "4: Graffiti, Street Maintenance  \n",
    "5: Litter Container Complaint, Street Maintenance  \n",
    "6: Missed Garbage Collection, Garbage & Recycling  \n",
    "7: Missed Recycling Collection, Garbage & Recycling  \n",
    "8: Mosquito Complaint, Insect Control  \n",
    "9: Neighbourhood Liveability Complaint, By Law Enforcement  \n",
    "10: Potholes, Street Maintenance  \n",
    "11: Sanding, Street Maintenance  \n",
    "12: Sewer Backup, Sewer & Drainage  \n",
    "13: Sidewalk Repairs, Street Maintenance  \n",
    "14: Snow Removal - Roads, Street Maintenance  \n",
    "15: Snow Removal - Sidewalks, Street Maintenance  \n",
    "16: Tree Pest Caterpillar Complaint, Insect Control  \n",
    "17: Water Main Leak, Water  "
   ]
  },
  {
   "cell_type": "markdown",
   "metadata": {},
   "source": [
    "# Temporal"
   ]
  },
  {
   "cell_type": "markdown",
   "metadata": {},
   "source": [
    "## Overview"
   ]
  },
  {
   "cell_type": "markdown",
   "metadata": {},
   "source": [
    "### Overall requests by Month"
   ]
  },
  {
   "cell_type": "code",
   "execution_count": null,
   "metadata": {},
   "outputs": [],
   "source": [
    "DF.groupby(DF[\"Date\"].dt.to_period(\"M\")).size().plot(kind=\"bar\", title=\"Overall requests by Month\")"
   ]
  },
  {
   "cell_type": "code",
   "execution_count": null,
   "metadata": {},
   "outputs": [],
   "source": [
    "def service_by_month(index: int):\n",
    "    pr = pd.period_range(start=DF[\"Date\"].min().strftime('%Y-%m'), end=DF[\"Date\"].max().strftime('%Y-%m'), freq=\"M\")\n",
    "    pr = pd.Series(data = [0]*len(pr), index=pd.period_range(start=\"2021-01\", end=\"2023-01\", freq=\"M\"))\n",
    "    return (pr + DF.query(column_contains(\"Service Area and Request\", [services[index]])).groupby(DF[\"Date\"].dt.to_period(\"M\")).size()).fillna(value=0).astype(int)\n",
    "\n",
    "def plot_service_divide_by_month_percentage(index: int):\n",
    "    service_by_month(index).divide(DF.groupby(DF[\"Date\"].dt.to_period(\"M\")).size()).plot(kind=\"bar\", title=services[index])\n",
    "    plt.show()\n",
    "\n",
    "def plot_service_divide_by_overall_in_category(index: int):\n",
    "    service_by_month(index).divide((DF[\"Service Area and Request\"] == services[index]).sum()).plot(kind=\"bar\", title=services[index])\n",
    "    plt.show()\n",
    "\n",
    "def plot_service_by_month(index: int):\n",
    "    service_by_month(index).plot(kind=\"bar\", title=services[index])\n",
    "    plt.show()"
   ]
  },
  {
   "cell_type": "code",
   "execution_count": null,
   "metadata": {},
   "outputs": [],
   "source": [
    "# x = [str(period) for period in pd.period_range(start=\"2021-01\", end=\"2023-01\", freq=\"M\")]\n",
    "# y = []\n",
    "# for i in range(len(services)):\n",
    "#     y.append(service_by_month(i).values)\n",
    " \n",
    "# # plot bars in stack manner\n",
    "# plt.figure(figsize=(20, 20))\n",
    "# plt.bar(x, y[0], color='r')\n",
    "# for i in [0, 1, 2]:#range(1, len(services)):\n",
    "#     plt.bar(x, y[i], bottom=y[i-1])\n",
    "# # TODO: Completely messed up\n",
    "# plt.legend(services)\n",
    "# plt.show()"
   ]
  },
  {
   "cell_type": "markdown",
   "metadata": {},
   "source": [
    "### Stackplot of requests by Month"
   ]
  },
  {
   "cell_type": "code",
   "execution_count": null,
   "metadata": {},
   "outputs": [],
   "source": [
    "x = [str(period) for period in pd.period_range(start=\"2021-01\", end=\"2023-01\", freq=\"M\")]\n",
    "y_list = []\n",
    "select = [2, 10, 11, 14, 15]\n",
    "for i in select: #range(len(services)):\n",
    "    y_list.append(service_by_month(i).values)\n",
    "y = np.vstack(y_list)\n",
    "\n",
    "# plot\n",
    "plt.figure(figsize=(20, 10))\n",
    "plt.stackplot(x, y)\n",
    "\n",
    "plt.legend([services[i] for i in select])\n",
    "plt.show()"
   ]
  },
  {
   "cell_type": "markdown",
   "metadata": {},
   "source": [
    "The data we have here doesn't have anything before the first day of 2021. How unfortunate. "
   ]
  },
  {
   "cell_type": "markdown",
   "metadata": {},
   "source": [
    "## Scoped by service type"
   ]
  },
  {
   "cell_type": "markdown",
   "metadata": {},
   "source": [
    "### Boulevard Mowing"
   ]
  },
  {
   "cell_type": "code",
   "execution_count": null,
   "metadata": {},
   "outputs": [],
   "source": [
    "plot_service_by_month(0)\n",
    "plot_service_divide_by_overall_in_category(0)\n",
    "plot_service_divide_by_month_percentage(0)"
   ]
  },
  {
   "cell_type": "markdown",
   "metadata": {},
   "source": [
    "You don't mow grass in winter when there is no grass."
   ]
  },
  {
   "cell_type": "markdown",
   "metadata": {},
   "source": [
    "### Dog Complaint"
   ]
  },
  {
   "cell_type": "code",
   "execution_count": null,
   "metadata": {},
   "outputs": [],
   "source": [
    "plot_service_by_month(1)"
   ]
  },
  {
   "cell_type": "markdown",
   "metadata": {},
   "source": [
    "### Frozen Catch Basin"
   ]
  },
  {
   "cell_type": "code",
   "execution_count": null,
   "metadata": {},
   "outputs": [],
   "source": [
    "plot_service_by_month(2)"
   ]
  },
  {
   "cell_type": "markdown",
   "metadata": {},
   "source": [
    "We had a lot of snow last winter, so it's understandable that catch basins are frozen and overwhelmed.\n",
    "\n",
    "Further verify this by how much cumulative snow we got in the past years"
   ]
  },
  {
   "cell_type": "markdown",
   "metadata": {},
   "source": [
    "### Graffiti"
   ]
  },
  {
   "cell_type": "code",
   "execution_count": null,
   "metadata": {},
   "outputs": [],
   "source": [
    "plot_service_by_month(3)"
   ]
  },
  {
   "cell_type": "code",
   "execution_count": null,
   "metadata": {},
   "outputs": [],
   "source": [
    "plot_service_by_month(4)"
   ]
  },
  {
   "cell_type": "markdown",
   "metadata": {},
   "source": [
    "There's a pattern.\n",
    "\n",
    "People go out in a summer and a comfortable 25C summer night is perfect climate for graffiti. /s\n",
    "\n",
    "Nobody want's to do graffiti in -30, right?\n",
    "\n",
    "But that doesn't explain 2021-01 to 2021-02 why there are so many reports.\n",
    "\n",
    "maybe useful, need fact check: Crime rate is higher in the winter, lower in the summer.\n",
    "\n",
    "- What's happening in July 2022?\n",
    "- What's wrong with Jan/Feb 2021? COVID policy, frustration? \n",
    "- COVID waves? Level of hospitalization vs infection(Omicron vs original COVID)"
   ]
  },
  {
   "cell_type": "markdown",
   "metadata": {},
   "source": [
    "### Litter Container Complaint"
   ]
  },
  {
   "cell_type": "code",
   "execution_count": null,
   "metadata": {},
   "outputs": [],
   "source": [
    "plot_service_by_month(5)"
   ]
  },
  {
   "cell_type": "markdown",
   "metadata": {},
   "source": [
    "This one matches Carson's hypothesis, garbage smell more in summer, but not in the winter."
   ]
  },
  {
   "cell_type": "markdown",
   "metadata": {},
   "source": [
    "### Missed Garbage Collection"
   ]
  },
  {
   "cell_type": "code",
   "execution_count": null,
   "metadata": {},
   "outputs": [],
   "source": [
    "plot_service_by_month(6)"
   ]
  },
  {
   "cell_type": "markdown",
   "metadata": {},
   "source": [
    "This is interesting.\n",
    "\n",
    "As discussed with Carson, there maybe more reports on missed garbage collection in summer because it smells, and maybe less on winter because it doesn't smell(people stay inside all of the time, low temps is literally freezing your garbage so nothing could gong bad).\n",
    "\n",
    "The overall trend is going up. Kind of sad.\n",
    "\n",
    "But 2 of the peak are in 2022-03 and 2022-12. If you look one year back, from and before 2021-12, the reports are really stable.\n",
    "\n",
    "Strike?\n",
    "\n",
    "We need more data to make more out of this, like garbage amounts per month, labour situation, COVID policies, etc.\n",
    "\n",
    "Residential or industrial, which made more garbage?"
   ]
  },
  {
   "cell_type": "markdown",
   "metadata": {},
   "source": [
    "### Missed Recycling Collection"
   ]
  },
  {
   "cell_type": "code",
   "execution_count": null,
   "metadata": {},
   "outputs": [],
   "source": [
    "plot_service_by_month(7)"
   ]
  },
  {
   "cell_type": "markdown",
   "metadata": {},
   "source": [
    "It seems like there's a pattern? COVID is a thing to consider for sure."
   ]
  },
  {
   "cell_type": "markdown",
   "metadata": {},
   "source": [
    "### Mosquito Complaint"
   ]
  },
  {
   "cell_type": "code",
   "execution_count": null,
   "metadata": {},
   "outputs": [],
   "source": [
    "plot_service_by_month(8)"
   ]
  },
  {
   "cell_type": "markdown",
   "metadata": {},
   "source": [
    "Fuck Mosquitos!\n",
    "\n",
    "Good thing that mosquito are really sensitive to the temperature. \n",
    "\n",
    "But still why 2022 have almost 4x reports than 2021? Does it have something to do with the climate? Or COVID policies?"
   ]
  },
  {
   "cell_type": "markdown",
   "metadata": {},
   "source": [
    "### Neighbourhood Liveability Complaint"
   ]
  },
  {
   "cell_type": "code",
   "execution_count": null,
   "metadata": {},
   "outputs": [],
   "source": [
    "plot_service_by_month(9)"
   ]
  },
  {
   "cell_type": "markdown",
   "metadata": {},
   "source": [
    "That's a clear pattern, people are more active in the summer.\n",
    "\n",
    "There was a dip in 2021-04, why? COVID restrictions?"
   ]
  },
  {
   "cell_type": "markdown",
   "metadata": {},
   "source": [
    "### Potholes"
   ]
  },
  {
   "cell_type": "code",
   "execution_count": null,
   "metadata": {},
   "outputs": [],
   "source": [
    "plot_service_by_month(10)"
   ]
  },
  {
   "cell_type": "markdown",
   "metadata": {},
   "source": [
    "That's a clear pattern, but 2022 was much more dramatic than 2021."
   ]
  },
  {
   "cell_type": "markdown",
   "metadata": {},
   "source": [
    "### Sanding"
   ]
  },
  {
   "cell_type": "code",
   "execution_count": null,
   "metadata": {},
   "outputs": [],
   "source": [
    "plot_service_by_month(11)"
   ]
  },
  {
   "cell_type": "markdown",
   "metadata": {},
   "source": [
    "Compare with snow data"
   ]
  },
  {
   "cell_type": "markdown",
   "metadata": {},
   "source": [
    "### Sewer Backup"
   ]
  },
  {
   "cell_type": "code",
   "execution_count": null,
   "metadata": {},
   "outputs": [],
   "source": [
    "plot_service_by_month(12)"
   ]
  },
  {
   "cell_type": "markdown",
   "metadata": {},
   "source": [
    "Maybe the water level of Red River have something to do with this?\n",
    "\n",
    "Probably need some civil engineering help."
   ]
  },
  {
   "cell_type": "markdown",
   "metadata": {},
   "source": [
    "### Sidewalk Repairs"
   ]
  },
  {
   "cell_type": "code",
   "execution_count": null,
   "metadata": {},
   "outputs": [],
   "source": [
    "plot_service_by_month(13)"
   ]
  },
  {
   "cell_type": "markdown",
   "metadata": {},
   "source": [
    "Hmmm that's interesting. As soon as winter come, the reports for sidewalk repairs plummets. I guess that's because nobody wants to walk outside of -30C. Also the snow covers everything, so the snow become the actual road surface.\n",
    "\n",
    "But there were a lot of snow removal requests for sidewalks. We need to look at where exactly are these snow removal requests originated from. Are they from residential areas? People needs to walk in the neighborhood. Are they from industrial areas like Tuxedo?\n"
   ]
  },
  {
   "cell_type": "markdown",
   "metadata": {},
   "source": [
    "### Snow Removal - Roads"
   ]
  },
  {
   "cell_type": "code",
   "execution_count": null,
   "metadata": {},
   "outputs": [],
   "source": [
    "plot_service_by_month(14)"
   ]
  },
  {
   "cell_type": "markdown",
   "metadata": {},
   "source": [
    "### Snow Removal - Sidewalks"
   ]
  },
  {
   "cell_type": "code",
   "execution_count": null,
   "metadata": {},
   "outputs": [],
   "source": [
    "plot_service_by_month(15)"
   ]
  },
  {
   "cell_type": "markdown",
   "metadata": {},
   "source": [
    "Obviously we don't have snow in the summer, and that's good.\n",
    "\n",
    "I do remember the Winter of 2021 there were a lot of snows. \n",
    "\n",
    "Almost perfect complement with sidewalk repairs"
   ]
  },
  {
   "cell_type": "markdown",
   "metadata": {},
   "source": [
    "### Tree Pest Caterpillar Complaint"
   ]
  },
  {
   "cell_type": "code",
   "execution_count": null,
   "metadata": {},
   "outputs": [],
   "source": [
    "plot_service_by_month(16)"
   ]
  },
  {
   "cell_type": "markdown",
   "metadata": {},
   "source": [
    "What is this data, they do have a pattern that it's in the summer. There's a big gap between 2021-06 and 2022-06 data.\n",
    "\n",
    "Note that this is complaint from the Winnipegger to 311, not the actual work dispatched. If we can have that data, that would explain something, like there were not enough people to work on this, and people are making duplicating requests.\n",
    "\n",
    "Speaking of duplicate, does all of the data here contains duplications or not?\n",
    "\n",
    "Because of COVIDin 2021, people are bored and looking for caterpillars."
   ]
  },
  {
   "cell_type": "markdown",
   "metadata": {},
   "source": [
    "### Water Main Leak"
   ]
  },
  {
   "cell_type": "code",
   "execution_count": null,
   "metadata": {},
   "outputs": [],
   "source": [
    "plot_service_by_month(17)"
   ]
  },
  {
   "cell_type": "markdown",
   "metadata": {},
   "source": [
    "What exactly does this mean?\n",
    "\n",
    "Maybe the water level of Red River have something to do with this?\n",
    "\n",
    "I remember one of the summer the water level of red river was really high throughout the whole summer, the sidewalk along the river was completely submerged. That kinds of terrifies me because is that one of the consequences of global warming?\n",
    "\n",
    "weather and temp related, more in the summer. If that's the case 2021-12 to 2022-03 are odd. Why is that?"
   ]
  }
 ],
 "metadata": {
  "kernelspec": {
   "display_name": "venv",
   "language": "python",
   "name": "python3"
  },
  "language_info": {
   "codemirror_mode": {
    "name": "ipython",
    "version": 3
   },
   "file_extension": ".py",
   "mimetype": "text/x-python",
   "name": "python",
   "nbconvert_exporter": "python",
   "pygments_lexer": "ipython3",
   "version": "3.11.2"
  },
  "orig_nbformat": 4,
  "vscode": {
   "interpreter": {
    "hash": "e796f632541093f5bb2c8d61f66cb18041899ad05fa905bccc4549da3016912f"
   }
  }
 },
 "nbformat": 4,
 "nbformat_minor": 2
}
