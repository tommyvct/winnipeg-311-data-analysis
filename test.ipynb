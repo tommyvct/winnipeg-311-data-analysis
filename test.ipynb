{
 "cells": [
  {
   "cell_type": "code",
   "execution_count": null,
   "metadata": {},
   "outputs": [],
   "source": [
    "import pandas as pd\n",
    "import numpy as np\n",
    "import matplotlib.pyplot as plt\n",
    "import folium\n",
    "from folium.plugins import MarkerCluster, GroupedLayerControl"
   ]
  },
  {
   "attachments": {},
   "cell_type": "markdown",
   "metadata": {},
   "source": [
    "# TODOs:\n",
    "- ~~TODO: find which neighborhood have more report in a ward~~\n",
    "    - ~~Ward is easier and simpler~~\n",
    "- ~~TODO: We should do proportions in the following graphs instead of raw numbers.~~\n",
    "    - ~~With respect to number of all cases within given timeframe, or cases **with the same category (makes more sense)** within given timeframe~~\n",
    "- ~~TODO: separate 2 different kind of graffiti.~~"
   ]
  },
  {
   "attachments": {},
   "cell_type": "markdown",
   "metadata": {},
   "source": [
    "# Data Cleaning and Processing"
   ]
  },
  {
   "cell_type": "code",
   "execution_count": null,
   "metadata": {},
   "outputs": [],
   "source": [
    "# Data source: https://data.winnipeg.ca/Contact-Centre-311/311-Service-Request/4her-3th5\n",
    "DF = pd.read_csv(\"./assets/311_Service_Request.csv\")\n",
    "DF.drop([\"Zip Codes\", \"Location 1\", \"Wards\", \"Neighborhoods\", \"Electoral Ward 2018\"], axis=1, inplace=True)\n",
    "DF[\"Date\"] = DF[\"Date\"].astype('datetime64')\n",
    "DF[\"Service Area and Request\"] = DF[\"Service Request\"].map(str) + \", \" + DF[\"Service Area\"]\n",
    "DF.dropna(inplace=True)\n",
    "\n",
    "DF[\"Neighbourhood\"].replace(\"Logan-C.p.r.\", \"Logan-C.P.R.\", inplace=True)\n",
    "\n",
    "DF"
   ]
  },
  {
   "attachments": {},
   "cell_type": "markdown",
   "metadata": {},
   "source": [
    "## Services"
   ]
  },
  {
   "cell_type": "code",
   "execution_count": null,
   "metadata": {},
   "outputs": [],
   "source": [
    "services = DF[\"Service Area and Request\"].unique().tolist()\n",
    "services.sort()\n",
    "services"
   ]
  },
  {
   "attachments": {},
   "cell_type": "markdown",
   "metadata": {},
   "source": [
    "As shown above, the record currently have these services, divided into areas:\n",
    "\n",
    "|Animal Services|Water|Street Maintenance|Sewer & Drainage|Garbage & Recycling|By Law Enforcement|Insect Control|Parks and Urban Foresty|\n",
    "|---|---|---|---|---|---|---|---|\n",
    "|Dog Complaint|Water Main Leak|Potholes|Sewer Backup|Missed Garbage Collection|Neighborhood Liveability Complaint|Mosquito Complaint|Graffiti|\n",
    "|||Snow Removal - Sidewalks||Missed Recycling Collection||Tree Pest Caterpillar Complaint|Boulevard Mowing|\n",
    "|||Graffiti||||||\n",
    "|||Snow Removal - Roads||||||\n",
    "|||Frozen Catch Basin||||||\n",
    "|||Sanding||||||\n",
    "|||Sidewalk Repairs||||||\n",
    "|||Litter Container Complaint||||||"
   ]
  },
  {
   "attachments": {},
   "cell_type": "markdown",
   "metadata": {},
   "source": [
    "## Neighborhoods"
   ]
  },
  {
   "attachments": {},
   "cell_type": "markdown",
   "metadata": {},
   "source": [
    "### Overall distribution among service requests"
   ]
  },
  {
   "cell_type": "code",
   "execution_count": null,
   "metadata": {},
   "outputs": [],
   "source": [
    "DF.groupby(\"Service Area and Request\").size().sort_values().plot(kind=\"barh\")"
   ]
  },
  {
   "attachments": {},
   "cell_type": "markdown",
   "metadata": {},
   "source": [
    "### Overall distribution among wards and neighbourhoods"
   ]
  },
  {
   "cell_type": "code",
   "execution_count": null,
   "metadata": {},
   "outputs": [],
   "source": [
    "DF.groupby(\"Ward\").size().sort_values().plot(kind=\"barh\")"
   ]
  },
  {
   "cell_type": "code",
   "execution_count": null,
   "metadata": {
    "collapsed": false
   },
   "outputs": [],
   "source": [
    "DF.groupby(\"Neighbourhood\").size().sort_values().plot(kind=\"barh\", figsize=(9, 50))"
   ]
  },
  {
   "attachments": {},
   "cell_type": "markdown",
   "metadata": {},
   "source": [
    "Maybe these downtown hoods are closer to ~~waste station~~? Nope, currently there's only one waste landfill in Winnipeg.  \n",
    "How about trashtrucks' depot?"
   ]
  },
  {
   "attachments": {},
   "cell_type": "markdown",
   "metadata": {},
   "source": [
    "### Overall Distribution among Requested services"
   ]
  },
  {
   "cell_type": "code",
   "execution_count": null,
   "metadata": {},
   "outputs": [],
   "source": [
    "DF.groupby(\"Service Area and Request\").size().sort_values().plot(kind=\"barh\")"
   ]
  },
  {
   "attachments": {},
   "cell_type": "markdown",
   "metadata": {},
   "source": [
    "# Spatial"
   ]
  },
  {
   "attachments": {},
   "cell_type": "markdown",
   "metadata": {},
   "source": [
    "1. The number of events looks like related to population density. Examples are William Whyte and University."
   ]
  },
  {
   "cell_type": "code",
   "execution_count": null,
   "metadata": {
    "collapsed": false
   },
   "outputs": [],
   "source": [
    "WINNIPEG = [49.88366050119829, -97.14581222292078]\n",
    "m = folium.Map(location=WINNIPEG, zoom_start=12)\n",
    "\n",
    "\n",
    "# By ward\n",
    "data = DF.groupby(\"Ward\").size()\n",
    "ward_cp = folium.Choropleth(\n",
    "    geo_data=\"assets/Electoral Ward.geojson\",\n",
    "    data=data,\n",
    "    key_on=\"feature.properties.name\",\n",
    "    name=\"Ward\"\n",
    ").add_to(m)\n",
    "\n",
    "for i in ward_cp.geojson.data['features']:\n",
    "    i['properties']['events'] = str(data[i['properties']['name']])\n",
    "folium.GeoJsonTooltip(['name', 'events']).add_to(ward_cp.geojson)\n",
    "\n",
    "# By neighbourhood\n",
    "data = DF.groupby(\"Neighbourhood\").size()\n",
    "hood_cp = folium.Choropleth(\n",
    "    geo_data=\"assets/Neighbourhood.geojson\",\n",
    "    data=data,\n",
    "    key_on=\"feature.properties.name\",\n",
    "    name=\"Neighbourhood\"\n",
    ").add_to(m)\n",
    "\n",
    "for i in hood_cp.geojson.data['features']:\n",
    "    if i['properties']['name'] != \"Prairie Pointe\":\n",
    "        i['properties']['events'] = str(data[i['properties']['name']])\n",
    "folium.GeoJsonTooltip(['name', 'events']).add_to(hood_cp.geojson)\n",
    "\n",
    "\n",
    "# By case\n",
    "def point_str_to_tuple(s: str) -> tuple:\n",
    "    split = s.split()\n",
    "    # return (float(split[1][1:]), float(split[2][:-1]))\n",
    "    return (float(split[2][:-1]), float(split[1][1:]))\n",
    "\n",
    "cases = MarkerCluster(name=\"Cases\")\n",
    "for i in DF.index:\n",
    "    folium.Marker(\n",
    "        location=point_str_to_tuple(DF['Point'][i]),\n",
    "        # The popup takes 2 mins to load on 8-core RYZEN 5700X\n",
    "        popup=f\"<b>Date: </b>{DF['Date'][i]}<br><b>Service Area: </b>{DF['Service Area'][i]}<br><b>Service Request: </b>{DF['Service Request'][i]}\"\n",
    "    ).add_to(cases)\n",
    "cases.add_to(m)\n",
    "\n",
    "\n",
    "folium.LayerControl().add_to(m)\n",
    "GroupedLayerControl( # example: https://github.com/chansooligans/folium/blob/81a04d3628b78b9538daadc3da81c9b1ee278692/examples/plugin-GroupedLayerControl.ipynb\n",
    "    groups={\"Division\": [ward_cp, hood_cp]} # either ward or neibourhood, radio button choose one\n",
    ").add_to(m)\n",
    "m"
   ]
  },
  {
   "cell_type": "code",
   "execution_count": null,
   "metadata": {},
   "outputs": [],
   "source": [
    "# Bar chart of Service Request for certain neibourhoods\n",
    "def column_contains(column: str, neighbourhoods: list) -> str:\n",
    "    ret = \"\"\n",
    "    for neighbourhood in neighbourhoods:\n",
    "        ret += f' or `{column}`.str.contains(\"{neighbourhood}\", regex=False, na=False)'\n",
    "    return ret[4:]\n",
    "\n",
    "def top_n(n: int, group_by: str, ascending = False) -> list:\n",
    "    return [key for key in DF.groupby(group_by).size().sort_values().nlargest(n).to_dict()] if not ascending else [key for key in DF.groupby(group_by).size().sort_values().nsmallest(n).to_dict()]\n"
   ]
  },
  {
   "attachments": {},
   "cell_type": "markdown",
   "metadata": {},
   "source": [
    "### Top Neibourhood from each ward"
   ]
  },
  {
   "cell_type": "code",
   "execution_count": null,
   "metadata": {},
   "outputs": [],
   "source": [
    "wards = DF[\"Ward\"].dropna().unique().tolist()\n",
    "\n",
    "for ward in wards:\n",
    "    print(f\"For ward {ward}, the top neighbourhood is:\")\n",
    "    print(DF.query(column_contains(\"Ward\", [ward])).groupby(\"Neighbourhood\").size().sort_values(ascending=False)[0:1])"
   ]
  },
  {
   "attachments": {},
   "cell_type": "markdown",
   "metadata": {},
   "source": [
    "### Top request from each ward"
   ]
  },
  {
   "cell_type": "code",
   "execution_count": null,
   "metadata": {},
   "outputs": [],
   "source": [
    "wards = DF[\"Ward\"].dropna().unique().tolist()\n",
    "n = 5\n",
    "\n",
    "for ward in wards:\n",
    "    print(f\"For ward {ward}, the top {n} requests are:\")\n",
    "    print(DF.query(column_contains(\"Ward\", [ward])).groupby(\"Service Area and Request\").size().sort_values(ascending=False)[0:n])"
   ]
  },
  {
   "attachments": {},
   "cell_type": "markdown",
   "metadata": {},
   "source": [
    "### Top 10 Neighborhoods's request"
   ]
  },
  {
   "cell_type": "code",
   "execution_count": null,
   "metadata": {},
   "outputs": [],
   "source": [
    "DF.query(column_contains(\"Neighbourhood\", top_n(10, \"Neighbourhood\"))).groupby(\"Service Area and Request\").size().sort_values().plot(kind=\"barh\")\n"
   ]
  },
  {
   "attachments": {},
   "cell_type": "markdown",
   "metadata": {},
   "source": [
    "# Temporal"
   ]
  },
  {
   "attachments": {},
   "cell_type": "markdown",
   "metadata": {},
   "source": [
    "### Overall requests by Month"
   ]
  },
  {
   "cell_type": "code",
   "execution_count": null,
   "metadata": {},
   "outputs": [],
   "source": [
    "DF.groupby(DF[\"Date\"].dt.to_period(\"M\")).size().plot(kind=\"bar\", title=\"Overall requests by Month\")"
   ]
  },
  {
   "cell_type": "code",
   "execution_count": null,
   "metadata": {},
   "outputs": [],
   "source": [
    "(DF[\"Service Area and Request\"] == services[3]).sum()"
   ]
  },
  {
   "cell_type": "code",
   "execution_count": null,
   "metadata": {},
   "outputs": [],
   "source": [
    "def service_by_month(index: int, divideby=None):\n",
    "    pr = pd.period_range(start=DF[\"Date\"].min().strftime('%Y-%m'), end=DF[\"Date\"].max().strftime('%Y-%m'), freq=\"M\")\n",
    "    pr = pd.Series(data = [0]*len(pr), index=pd.period_range(start=\"2021-01\", end=\"2023-01\", freq=\"M\"))\n",
    "    return (pr + DF.query(column_contains(\"Service Area and Request\", [services[index]])).groupby(DF[\"Date\"].dt.to_period(\"M\")).size()).fillna(value=0).astype(int)\n",
    "\n",
    "def plot_service_divide_by_month_percentage(index: int):\n",
    "    service_by_month(index).divide(DF.groupby(DF[\"Date\"].dt.to_period(\"M\")).size()).plot(kind=\"bar\", title=services[index])\n",
    "    plt.show()\n",
    "\n",
    "def plot_service_divide_by_overall_in_category(index: int):\n",
    "    service_by_month(index).divide((DF[\"Service Area and Request\"] == services[index]).sum()).plot(kind=\"bar\", title=services[index])\n",
    "    plt.show()\n",
    "\n",
    "def plot_service_by_month(index: int):\n",
    "    service_by_month(index).plot(kind=\"bar\", title=services[index])\n",
    "    plt.show()"
   ]
  },
  {
   "cell_type": "code",
   "execution_count": null,
   "metadata": {},
   "outputs": [],
   "source": [
    "service_by_month(0).values"
   ]
  },
  {
   "cell_type": "code",
   "execution_count": null,
   "metadata": {},
   "outputs": [],
   "source": [
    "# x = [str(period) for period in pd.period_range(start=\"2021-01\", end=\"2023-01\", freq=\"M\")]\n",
    "# y = []\n",
    "# for i in range(len(services)):\n",
    "#     y.append(service_by_month(i).values)\n",
    " \n",
    "# # plot bars in stack manner\n",
    "# plt.figure(figsize=(20, 20))\n",
    "# plt.bar(x, y[0], color='r')\n",
    "# for i in [0, 1, 2]:#range(1, len(services)):\n",
    "#     plt.bar(x, y[i], bottom=y[i-1])\n",
    "# # TODO: Completely messed up\n",
    "# plt.legend(services)\n",
    "# plt.show()"
   ]
  },
  {
   "cell_type": "code",
   "execution_count": null,
   "metadata": {},
   "outputs": [],
   "source": [
    "x = [str(period) for period in pd.period_range(start=\"2021-01\", end=\"2023-01\", freq=\"M\")]\n",
    "y_list = []\n",
    "select = [2, 10, 11, 14, 15]\n",
    "for i in select: #range(len(services)):\n",
    "    y_list.append(service_by_month(i).values)\n",
    "y = np.vstack(y_list)\n",
    "\n",
    "# plot\n",
    "plt.figure(figsize=(20, 10))\n",
    "plt.stackplot(x, y)\n",
    "\n",
    "plt.legend([services[i] for i in select])\n",
    "plt.show()"
   ]
  },
  {
   "attachments": {},
   "cell_type": "markdown",
   "metadata": {},
   "source": [
    "The data we have here doesn't have anything before the first day of 2021. How unfortunate. "
   ]
  },
  {
   "cell_type": "code",
   "execution_count": null,
   "metadata": {},
   "outputs": [],
   "source": [
    "plot_service_by_month(0)\n",
    "plot_service_divide_by_overall_in_category(0)\n",
    "plot_service_divide_by_month_percentage(0)"
   ]
  },
  {
   "attachments": {},
   "cell_type": "markdown",
   "metadata": {},
   "source": [
    "You don't mow grass in winter when there is no grass."
   ]
  },
  {
   "cell_type": "code",
   "execution_count": null,
   "metadata": {},
   "outputs": [],
   "source": [
    "plot_service_by_month(1)"
   ]
  },
  {
   "cell_type": "code",
   "execution_count": null,
   "metadata": {},
   "outputs": [],
   "source": [
    "plot_service_by_month(2)"
   ]
  },
  {
   "attachments": {},
   "cell_type": "markdown",
   "metadata": {},
   "source": [
    "We had a lot of snow last winter, so it's understandable that catch basins are frozen and overwhelmed.\n",
    "\n",
    "Further verify this by how much cumulative snow we got in the past years"
   ]
  },
  {
   "cell_type": "code",
   "execution_count": null,
   "metadata": {},
   "outputs": [],
   "source": [
    "plot_service_by_month(3)"
   ]
  },
  {
   "cell_type": "code",
   "execution_count": null,
   "metadata": {},
   "outputs": [],
   "source": [
    "plot_service_by_month(4)"
   ]
  },
  {
   "attachments": {},
   "cell_type": "markdown",
   "metadata": {},
   "source": [
    "There's a pattern.\n",
    "\n",
    "People go out in a summer and a comfortable 25C summer night is perfect climate for graffiti. /s\n",
    "\n",
    "Nobody want's to do graffiti in -30, right?\n",
    "\n",
    "But that doesn't explain 2021-01 to 2021-02 why there are so many reports.\n",
    "\n",
    "maybe useful, need fact check: Crime rate is higher in the winter, lower in the summer.\n",
    "\n",
    "- What's happening in July 2022?\n",
    "- What's wrong with Jan/Feb 2021? COVID policy, frustration? \n",
    "- COVID waves? Level of hospitalization vs infection(Omicron vs original COVID)"
   ]
  },
  {
   "cell_type": "code",
   "execution_count": null,
   "metadata": {},
   "outputs": [],
   "source": [
    "plot_service_by_month(5)"
   ]
  },
  {
   "attachments": {},
   "cell_type": "markdown",
   "metadata": {},
   "source": [
    "This one matches Carson's hypothesis, garbage smell more in summer, but not in the winter."
   ]
  },
  {
   "cell_type": "code",
   "execution_count": null,
   "metadata": {},
   "outputs": [],
   "source": [
    "plot_service_by_month(6)"
   ]
  },
  {
   "attachments": {},
   "cell_type": "markdown",
   "metadata": {},
   "source": [
    "This is interesting.\n",
    "\n",
    "As discussed with Carson, there maybe more reports on missed garbage collection in summer because it smells, and maybe less on winter because it doesn't smell(people stay inside all of the time, low temps is literally freezing your garbage so nothing could gong bad).\n",
    "\n",
    "The overall trend is going up. Kind of sad.\n",
    "\n",
    "But 2 of the peak are in 2022-03 and 2022-12. If you look one year back, from and before 2021-12, the reports are really stable.\n",
    "\n",
    "Strike?\n",
    "\n",
    "We need more data to make more out of this, like garbage amounts per month, labour situation, COVID policies, etc.\n",
    "\n",
    "Residential or industrial, which made more garbage?"
   ]
  },
  {
   "cell_type": "code",
   "execution_count": null,
   "metadata": {},
   "outputs": [],
   "source": [
    "plot_service_by_month(7)"
   ]
  },
  {
   "attachments": {},
   "cell_type": "markdown",
   "metadata": {},
   "source": [
    "It seems like there's a pattern? COVID is a thing to consider for sure."
   ]
  },
  {
   "cell_type": "code",
   "execution_count": null,
   "metadata": {},
   "outputs": [],
   "source": [
    "plot_service_by_month(8)"
   ]
  },
  {
   "attachments": {},
   "cell_type": "markdown",
   "metadata": {},
   "source": [
    "Fuck Mosquitos!\n",
    "\n",
    "Good thing that mosquito are really sensitive to the temperature. \n",
    "\n",
    "But still why 2022 have almost 4x reports than 2021? Does it have something to do with the climate? Or COVID policies?"
   ]
  },
  {
   "cell_type": "code",
   "execution_count": null,
   "metadata": {},
   "outputs": [],
   "source": [
    "plot_service_by_month(9)"
   ]
  },
  {
   "attachments": {},
   "cell_type": "markdown",
   "metadata": {},
   "source": [
    "That's a clear pattern, people are more active in the summer.\n",
    "\n",
    "There was a dip in 2021-04, why? COVID restrictions?"
   ]
  },
  {
   "cell_type": "code",
   "execution_count": null,
   "metadata": {},
   "outputs": [],
   "source": [
    "plot_service_by_month(10)"
   ]
  },
  {
   "attachments": {},
   "cell_type": "markdown",
   "metadata": {},
   "source": [
    "That's a clear pattern, but 2022 was much more dramatic than 2021."
   ]
  },
  {
   "cell_type": "code",
   "execution_count": null,
   "metadata": {},
   "outputs": [],
   "source": [
    "plot_service_by_month(11)"
   ]
  },
  {
   "attachments": {},
   "cell_type": "markdown",
   "metadata": {},
   "source": [
    "Compare with snow data"
   ]
  },
  {
   "cell_type": "code",
   "execution_count": null,
   "metadata": {},
   "outputs": [],
   "source": [
    "plot_service_by_month(12)"
   ]
  },
  {
   "attachments": {},
   "cell_type": "markdown",
   "metadata": {},
   "source": [
    "Maybe the water level of Red River have something to do with this?\n",
    "\n",
    "Probably need some civil engineering help."
   ]
  },
  {
   "cell_type": "code",
   "execution_count": null,
   "metadata": {},
   "outputs": [],
   "source": [
    "plot_service_by_month(13)"
   ]
  },
  {
   "attachments": {},
   "cell_type": "markdown",
   "metadata": {},
   "source": [
    "Hmmm that's interesting. As soon as winter come, the reports for sidewalk repairs plummets. I guess that's because nobody wants to walk outside of -30C. Also the snow covers everything, so the snow become the actual road surface.\n",
    "\n",
    "But there were a lot of snow removal requests for sidewalks. We need to look at where exactly are these snow removal requests originated from. Are they from residential areas? People needs to walk in the neighborhood. Are they from industrial areas like Tuxedo?\n"
   ]
  },
  {
   "cell_type": "code",
   "execution_count": null,
   "metadata": {},
   "outputs": [],
   "source": [
    "plot_service_by_month(14)"
   ]
  },
  {
   "cell_type": "code",
   "execution_count": null,
   "metadata": {},
   "outputs": [],
   "source": [
    "plot_service_by_month(15)"
   ]
  },
  {
   "attachments": {},
   "cell_type": "markdown",
   "metadata": {},
   "source": [
    "Obviously we don't have snow in the summer, and that's good.\n",
    "\n",
    "I do remember the Winter of 2021 there were a lot of snows. \n",
    "\n",
    "Almost perfect complement with sidewalk repairs"
   ]
  },
  {
   "cell_type": "code",
   "execution_count": null,
   "metadata": {},
   "outputs": [],
   "source": [
    "plot_service_by_month(16)"
   ]
  },
  {
   "attachments": {},
   "cell_type": "markdown",
   "metadata": {},
   "source": [
    "What is this data, they do have a pattern that it's in the summer. There's a big gap between 2021-06 and 2022-06 data.\n",
    "\n",
    "Note that this is complaint from the Winnipegger to 311, not the actual work dispatched. If we can have that data, that would explain something, like there were not enough people to work on this, and people are making duplicating requests.\n",
    "\n",
    "Speaking of duplicate, does all of the data here contains duplications or not?\n",
    "\n",
    "Because of COVIDin 2021, people are bored and looking for caterpillars."
   ]
  },
  {
   "cell_type": "code",
   "execution_count": null,
   "metadata": {},
   "outputs": [],
   "source": [
    "plot_service_by_month(17)"
   ]
  },
  {
   "attachments": {},
   "cell_type": "markdown",
   "metadata": {},
   "source": [
    "What exactly does this mean?\n",
    "\n",
    "Maybe the water level of Red River have something to do with this?\n",
    "\n",
    "I remember one of the summer the water level of red river was really high throughout the whole summer, the sidewalk along the river was completely submerged. That kinds of terrifies me because is that one of the consequences of global warming?\n",
    "\n",
    "weather and temp related, more in the summer. If that's the case 2021-12 to 2022-03 are odd. Why is that?"
   ]
  }
 ],
 "metadata": {
  "kernelspec": {
   "display_name": "venv",
   "language": "python",
   "name": "python3"
  },
  "language_info": {
   "codemirror_mode": {
    "name": "ipython",
    "version": 3
   },
   "file_extension": ".py",
   "mimetype": "text/x-python",
   "name": "python",
   "nbconvert_exporter": "python",
   "pygments_lexer": "ipython3",
   "version": "3.11.2"
  },
  "orig_nbformat": 4,
  "vscode": {
   "interpreter": {
    "hash": "09304c1c62e9c9bff6a953dd4129f87c3b9520a4e04706695201cb53f3cc0be8"
   }
  }
 },
 "nbformat": 4,
 "nbformat_minor": 2
}
