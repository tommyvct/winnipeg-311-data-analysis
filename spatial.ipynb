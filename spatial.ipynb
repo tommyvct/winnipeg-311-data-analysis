{
 "cells": [
  {
   "cell_type": "code",
   "execution_count": null,
   "metadata": {},
   "outputs": [],
   "source": [
    "import pandas as pd\n",
    "import numpy as np\n",
    "import matplotlib.pyplot as plt\n",
    "import folium\n",
    "from folium.plugins import MarkerCluster, GroupedLayerControl\n",
    "\n",
    "from data_utilities import *"
   ]
  },
  {
   "attachments": {},
   "cell_type": "markdown",
   "metadata": {},
   "source": [
    "# List of Services"
   ]
  },
  {
   "attachments": {},
   "cell_type": "markdown",
   "metadata": {},
   "source": [
    "0: Boulevard Mowing, Parks and Urban Foresty  \n",
    "~~1: Dog Complaint, Animal Services~~  \n",
    "2: Frozen Catch Basin, Street Maintenance  \n",
    "~~3: Graffiti, Parks and Urban Foresty~~  \n",
    "~~4: Graffiti, Street Maintenance~~  \n",
    "~~5: Litter Container Complaint, Street Maintenance~~  \n",
    "~~6: Missed Garbage Collection, Garbage & Recycling~~  \n",
    "~~7: Missed Recycling Collection, Garbage & Recycling~~  \n",
    "~~8: Mosquito Complaint, Insect Control~~  \n",
    "9: Neighbourhood Liveability Complaint, By Law Enforcement  \n",
    "10: Potholes, Street Maintenance  \n",
    "11: Sanding, Street Maintenance  \n",
    "12: Sewer Backup, Sewer & Drainage  \n",
    "13: Sidewalk Repairs, Street Maintenance  \n",
    "14: Snow Removal - Roads, Street Maintenance  \n",
    "15: Snow Removal - Sidewalks, Street Maintenance  \n",
    "~~16: Tree Pest Caterpillar Complaint, Insect Control~~  \n",
    "17: Water Main Leak, Water  "
   ]
  },
  {
   "attachments": {},
   "cell_type": "markdown",
   "metadata": {},
   "source": [
    "# Spatial"
   ]
  },
  {
   "attachments": {},
   "cell_type": "markdown",
   "metadata": {},
   "source": [
    "1. Generally, the number of events looks like related to residential population density. Examples are William Whyte and University.\n",
    "1. Not sure about boulevard mowing\n",
    "1. Census data is not recent (2006), may not be able to create full projection on the map(e.g. neighbourhood boundaries and names may be changed from 2006 to 2023)\n",
    "    - We do have more recent cendus data (2016 and 2021), but it's not on Winnipeg data portal.\n",
    "1. The pandemic widens the wealth gap between rich and poor neighborhoods. The polarity remains unchanged with rich neighborhoods having more events.\n",
    "    - Example: Bridgewater (new community) vs Fort Richmond (older community)"
   ]
  },
  {
   "attachments": {},
   "cell_type": "markdown",
   "metadata": {},
   "source": [
    "- Hypothesis: High poverty areas are more likely to have more events.  \n",
    "    Verdict: Not quite true.\n",
    "    1. In the ward of Mynarski, the number of events is proportional to the level of poverty.\n",
    "    2. Downtown area is complicated\n",
    "        - Broadway-Assiniboine and Central Park have one of the highest polulation density, probably due to apartment buildings instead of detached house in Mynarski.\n",
    "        - In these areas, the **population density is positively correlated with the level of poverty**.\n",
    "        - Total events wise, it doesn't have much. In another word, the number of events is not proportional to the level of poverty, or the population density.\n",
    "        - This could be due to the fact that apartment building have private caretaking service, which is not included in the data. In contrast, most if not all detached houses in the city will use the city's service.\n",
    "    3. The north part of the city, for example Mynarski, despite have mainly detached houses, have much higher population density along with poverty level.\n",
    "- TODO: Find which service request is more likely to be reported in high poverty areas?\n",
    "\n",
    "https://data.winnipeg.ca/Census/Map-of-Higher-Poverty-Areas/hty7-qszy  \n",
    "The data is not in the form of neighbourhood names, but in Polygon.   \n",
    "TODO: find a way to convert polygon to neighbourhood names.\n",
    "\n",
    "\n",
    "TODO: The poverty map assumes that high population density implies poverty. Need further investigation."
   ]
  },
  {
   "cell_type": "markdown",
   "metadata": {},
   "source": [
    "## Neighborhoods"
   ]
  },
  {
   "cell_type": "markdown",
   "metadata": {},
   "source": [
    "### Overall distribution among service requests"
   ]
  },
  {
   "cell_type": "code",
   "execution_count": null,
   "metadata": {},
   "outputs": [],
   "source": [
    "DF.groupby(\"Service Area and Request\").size().sort_values().plot(kind=\"barh\")"
   ]
  },
  {
   "cell_type": "markdown",
   "metadata": {},
   "source": [
    "### Overall distribution among wards and neighbourhoods"
   ]
  },
  {
   "cell_type": "code",
   "execution_count": null,
   "metadata": {},
   "outputs": [],
   "source": [
    "DF.groupby(\"Ward\").size().sort_values().plot(kind=\"barh\")"
   ]
  },
  {
   "cell_type": "code",
   "execution_count": null,
   "metadata": {},
   "outputs": [],
   "source": [
    "DF.groupby(\"Neighbourhood\").size().sort_values().plot(kind=\"barh\", figsize=(9, 50))"
   ]
  },
  {
   "attachments": {},
   "cell_type": "markdown",
   "metadata": {},
   "source": [
    "Maybe these downtown neighbourhoods are closer to ~~waste station~~? Nope, currently there's only one waste landfill in Winnipeg.  \n",
    "How about trashtrucks' depot?"
   ]
  },
  {
   "cell_type": "markdown",
   "metadata": {},
   "source": [
    "### Overall Distribution among Requested services"
   ]
  },
  {
   "cell_type": "code",
   "execution_count": null,
   "metadata": {},
   "outputs": [],
   "source": [
    "DF.groupby(\"Service Area and Request\").size().sort_values().plot(kind=\"barh\")"
   ]
  },
  {
   "cell_type": "markdown",
   "metadata": {},
   "source": [
    "## Population density"
   ]
  },
  {
   "cell_type": "code",
   "execution_count": null,
   "metadata": {},
   "outputs": [],
   "source": [
    "density_df = pd.read_csv(\"./assets/Census_2006_population_density.csv\")\n",
    "def plot_population_density():\n",
    "    \"\"\"\n",
    "    \"\"\"\n",
    "    WINNIPEG = [49.88366050119829, -97.14581222292078]\n",
    "    m = folium.Map(location=WINNIPEG, zoom_start=12)\n",
    "\n",
    "    # the ward have \" Ward\" in the end of the Boundry Name, remove it beforehand\n",
    "    wards = density_df[density_df[\"Boundary Type\"] == \"Ward\"]\n",
    "    neighbourhoods = density_df[density_df[\"Boundary Type\"] == \"Neighbourhood\"]\n",
    "\n",
    "    #TODO: link population density data\n",
    "    # By ward\n",
    "    ward_cp = folium.Choropleth(\n",
    "        geo_data=\"assets/Electoral Ward.geojson\",\n",
    "        data=wards,\n",
    "        columns=[\"Boundary Name\", \"Population Density 2006\"],\n",
    "        key_on=\"feature.properties.name\",\n",
    "        name=\"Ward\"\n",
    "    ).add_to(m)\n",
    "\n",
    "    for i in ward_cp.geojson.data['features']:\n",
    "        try:\n",
    "            i['properties']['density'] = str(float(wards[wards[\"Boundary Name\"] == i['properties']['name']][\"Population Density 2006\"])) # type: ignore\n",
    "        except KeyError:\n",
    "            i['properties']['density'] = \"KeyError\"\n",
    "        except TypeError:\n",
    "            i['properties']['density'] = \"TypeError\"\n",
    "    folium.GeoJsonTooltip(['name', 'density']).add_to(ward_cp.geojson)\n",
    "\n",
    "    # By neighbourhood\n",
    "    hood_cp = folium.Choropleth(\n",
    "        geo_data=\"assets/Neighbourhood.geojson\",\n",
    "        data=neighbourhoods,\n",
    "        columns=[\"Boundary Name\", \"Population Density 2006\"],\n",
    "        key_on=\"feature.properties.name\",\n",
    "        name=\"Neighbourhood\"\n",
    "    ).add_to(m)\n",
    "\n",
    "    for i in hood_cp.geojson.data['features']:\n",
    "        # if i['properties']['name'] == \"Prairie Pointe\": # edge case: we don't have data for this neighbourhood, it doesn't exist in the 311 dataset\n",
    "        #     pass\n",
    "        try:\n",
    "            i['properties']['density'] = str(float(neighbourhoods[neighbourhoods[\"Boundary Name\"] == i['properties']['name']][\"Population Density 2006\"])) # type: ignore\n",
    "        except KeyError:\n",
    "            i['properties']['density'] = \"KeyError\"\n",
    "        except TypeError:\n",
    "            i['properties']['density'] = \"TypeError\"\n",
    "    folium.GeoJsonTooltip(['name', 'density']).add_to(hood_cp.geojson)\n",
    "\n",
    "\n",
    "    layer_control = folium.LayerControl().add_to(m)\n",
    "    GroupedLayerControl( # example: https://github.com/chansooligans/folium/blob/81a04d3628b78b9538daadc3da81c9b1ee278692/examples/plugin-GroupedLayerControl.ipynb\n",
    "        groups={\"Division\": [ward_cp, hood_cp]} # either ward or neighbourhood, radio button choose one\n",
    "    ).add_to(m)\n",
    "\n",
    "    return m\n",
    "\n",
    "plot_population_density()"
   ]
  },
  {
   "cell_type": "markdown",
   "metadata": {},
   "source": [
    "Unfortunately, the 2006 census data is way too outdated. For example, here are the new neighourhoods that are not included in the 2006 census data:"
   ]
  },
  {
   "cell_type": "code",
   "execution_count": null,
   "metadata": {},
   "outputs": [],
   "source": [
    "list(set(sorted(DF[\"Neighbourhood\"].unique().tolist())) - set(sorted(density_df[density_df[\"Boundary Type\"] == \"Neighbourhood\"][\"Boundary Name\"].unique().tolist())))"
   ]
  },
  {
   "attachments": {},
   "cell_type": "markdown",
   "metadata": {},
   "source": [
    "Also Wards name difference:"
   ]
  },
  {
   "cell_type": "code",
   "execution_count": null,
   "metadata": {},
   "outputs": [],
   "source": [
    "sorted(DF[\"Ward\"].unique().tolist())"
   ]
  },
  {
   "cell_type": "code",
   "execution_count": null,
   "metadata": {},
   "outputs": [],
   "source": [
    "sorted(density_df[density_df[\"Boundary Type\"] == \"Ward\"][\"Boundary Name\"].unique().tolist())"
   ]
  },
  {
   "attachments": {},
   "cell_type": "markdown",
   "metadata": {},
   "source": [
    "## Overall"
   ]
  },
  {
   "cell_type": "markdown",
   "metadata": {},
   "source": [
    "### Overall distribution among service requests"
   ]
  },
  {
   "cell_type": "code",
   "execution_count": null,
   "metadata": {},
   "outputs": [],
   "source": [
    "DF.groupby(\"Service Area and Request\").size().sort_values().plot(kind=\"barh\")"
   ]
  },
  {
   "cell_type": "markdown",
   "metadata": {},
   "source": [
    "### Overall distribution among wards and neighbourhoods"
   ]
  },
  {
   "cell_type": "code",
   "execution_count": null,
   "metadata": {},
   "outputs": [],
   "source": [
    "DF.groupby(\"Ward\").size().sort_values().plot(kind=\"barh\")"
   ]
  },
  {
   "cell_type": "code",
   "execution_count": null,
   "metadata": {},
   "outputs": [],
   "source": [
    "DF.groupby(\"Neighbourhood\").size().sort_values().plot(kind=\"barh\", figsize=(9, 50))"
   ]
  },
  {
   "cell_type": "markdown",
   "metadata": {},
   "source": [
    "Maybe these downtown hoods are closer to ~~waste station~~? Nope, currently there's only one waste landfill in Winnipeg.  \n",
    "How about trashtrucks' depot?"
   ]
  },
  {
   "cell_type": "markdown",
   "metadata": {},
   "source": [
    "### Overall Distribution among Requested services"
   ]
  },
  {
   "cell_type": "code",
   "execution_count": null,
   "metadata": {},
   "outputs": [],
   "source": [
    "DF.groupby(\"Service Area and Request\").size().sort_values().plot(kind=\"barh\")"
   ]
  },
  {
   "attachments": {},
   "cell_type": "markdown",
   "metadata": {},
   "source": [
    "## Overall events map"
   ]
  },
  {
   "cell_type": "code",
   "execution_count": null,
   "metadata": {
    "collapsed": false
   },
   "outputs": [],
   "source": [
    "def plot_events(services_filter: list = []):\n",
    "    \"\"\"\n",
    "    Plot events on a map\n",
    "\n",
    "    Args:\n",
    "    service_filter: a list that either contains the index of the service or the name of the service. Empty list means all services.\n",
    "    \"\"\"\n",
    "    WINNIPEG = [49.88366050119829, -97.14581222292078]\n",
    "    m = folium.Map(location=WINNIPEG, zoom_start=12, nan_fill_color=\"white\")\n",
    "\n",
    "    data = pd.DataFrame()\n",
    "    if len(services_filter) != 0:\n",
    "        for i in range(len(services_filter)):\n",
    "            if type(services_filter[i]) != str:\n",
    "                services_filter[i] = services[services_filter[i]]\n",
    "        for i in services_filter:\n",
    "            data = DF[DF[\"Service Area and Request\"].isin(services_filter)]\n",
    "    else:\n",
    "        services_filter = services\n",
    "        data = DF\n",
    "        \n",
    "    # By neighbourhood\n",
    "    hood_data = data.groupby(\"Neighbourhood\").size()\n",
    "    hood_cp = folium.Choropleth(\n",
    "        geo_data=\"assets/Neighbourhood.geojson\",\n",
    "        data=hood_data,\n",
    "        key_on=\"feature.properties.name\",\n",
    "        name=\"Neighbourhood\",\n",
    "        nan_fill_color=\"white\"\n",
    "    ).add_to(m)\n",
    "\n",
    "    for i in hood_cp.geojson.data['features']:\n",
    "        if i['properties']['name'] == \"Prairie Pointe\": # edge case: we don't have data for this neighbourhood, it doesn't exist in the 311 dataset\n",
    "            pass\n",
    "        try:\n",
    "            i['properties']['events'] = str(hood_data[i['properties']['name']])\n",
    "        except KeyError:\n",
    "            i['properties']['events'] = \"0\"\n",
    "    folium.GeoJsonTooltip(['name', 'events']).add_to(hood_cp.geojson)\n",
    "\n",
    "\n",
    "    # By ward\n",
    "    ward_data = data.groupby(\"Ward\").size()\n",
    "    ward_cp = folium.Choropleth(\n",
    "        geo_data=\"assets/Electoral Ward.geojson\",\n",
    "        data=ward_data,\n",
    "        key_on=\"feature.properties.name\",\n",
    "        name=\"Ward\",\n",
    "        nan_fill_color=\"white\"\n",
    "    ).add_to(m)\n",
    "\n",
    "    for i in ward_cp.geojson.data['features']:\n",
    "        try:\n",
    "            i['properties']['events'] = str(ward_data[i['properties']['name']])\n",
    "        except KeyError:\n",
    "            i['properties']['events'] = \"0\"\n",
    "    folium.GeoJsonTooltip(['name', 'events']).add_to(ward_cp.geojson)\n",
    "\n",
    "\n",
    "    # By case\n",
    "    def point_str_to_tuple(s: str) -> tuple:\n",
    "        split = s.split()\n",
    "        # return (float(split[1][1:]), float(split[2][:-1]))\n",
    "        return (float(split[2][:-1]), float(split[1][1:]))\n",
    "\n",
    "\n",
    "    cases = dict()\n",
    "    for i in services_filter:\n",
    "        cases[i] = MarkerCluster(name=i)\n",
    "\n",
    "    for i in data.index:\n",
    "        folium.Marker(\n",
    "            location=point_str_to_tuple(data['Point'][i]), # type: ignore\n",
    "            # The popup takes 2 mins to load on 8-core RYZEN 5700X\n",
    "            popup=f\"<b>Date: </b>{data['Date'][i]}<p><b>Service Area: </b>{data['Service Area'][i]}<p><b>Service Request: </b>{data['Service Request'][i]}\",\n",
    "        ).add_to(cases[data['Service Area and Request'][i]])\n",
    "\n",
    "    for i in services_filter:\n",
    "        cases[i].add_to(m)\n",
    "\n",
    "\n",
    "    layer_control = folium.LayerControl().add_to(m)\n",
    "    GroupedLayerControl( # example: https://github.com/chansooligans/folium/blob/81a04d3628b78b9538daadc3da81c9b1ee278692/examples/plugin-GroupedLayerControl.ipynb\n",
    "        groups={\"Division\": [hood_cp, ward_cp],\n",
    "                }, # either ward or neighbourhood, radio button choose one\n",
    "                nan_fill_color=\"white\"\n",
    "    ).add_to(m)\n",
    "\n",
    "    return m"
   ]
  },
  {
   "cell_type": "code",
   "execution_count": null,
   "metadata": {},
   "outputs": [],
   "source": [
    "plot_events([])"
   ]
  },
  {
   "attachments": {},
   "cell_type": "markdown",
   "metadata": {},
   "source": [
    "## Scoped by service type"
   ]
  },
  {
   "attachments": {},
   "cell_type": "markdown",
   "metadata": {},
   "source": [
    "### Graffiti"
   ]
  },
  {
   "cell_type": "code",
   "execution_count": null,
   "metadata": {},
   "outputs": [],
   "source": [
    "plot_events([3, 4])"
   ]
  },
  {
   "attachments": {},
   "cell_type": "markdown",
   "metadata": {},
   "source": [
    "https://data.winnipeg.ca/Census/Map-of-Higher-Poverty-Areas/hty7-qszy\n",
    "\n",
    "Graffiti reports have something to do with population density, both residential and commercial.  \n",
    "\n",
    "The downtown area has more graffiti reports despite have fewer overall events. People do graffiti to attract attention, so it makes more sense to do it in a place with more people.\n",
    "\n",
    "Things to consider: so many people work here, so one graffiti will get reported multiple times."
   ]
  },
  {
   "attachments": {},
   "cell_type": "markdown",
   "metadata": {},
   "source": [
    "### Garbage related"
   ]
  },
  {
   "cell_type": "code",
   "execution_count": null,
   "metadata": {},
   "outputs": [],
   "source": [
    "plot_events([5, 6, 7])"
   ]
  },
  {
   "attachments": {},
   "cell_type": "markdown",
   "metadata": {},
   "source": [
    "1. Industrial and non residential areas have near-zero garbage related events. They may have their own garbage collection service. Examples are University, Assiniboine park, Buffalo, The Forks, etc.\n",
    "1. Older communities have more garbage related events. Examples are Mynarski vs Bridgewater, etc.\n",
    "1. South Portage have an exceptionally high number of Litter Container complaints. This makes sense because it's where people work, but they don't live there, so people will get rid of their garbage in the public litter container."
   ]
  },
  {
   "attachments": {},
   "cell_type": "markdown",
   "metadata": {},
   "source": [
    "### Insect Control"
   ]
  },
  {
   "cell_type": "code",
   "execution_count": null,
   "metadata": {},
   "outputs": [],
   "source": [
    "plot_events([8])"
   ]
  },
  {
   "cell_type": "code",
   "execution_count": null,
   "metadata": {},
   "outputs": [],
   "source": [
    "plot_events([16])"
   ]
  },
  {
   "attachments": {},
   "cell_type": "markdown",
   "metadata": {},
   "source": [
    "1. Mosquitos need water to reproduce. Neighbourhoods have a relatively high number of mosquito complains usually have a large area made of park or pond.\n",
    "1. There are counterexamples, Linden Woods and Bridgewater have quite a large area of park, but their mosquito complains are virtually zero.\n",
    "1. This may also reinforces the idea that older communities have a positive correlation with the number of events.\n",
    "1. For tree pests, I can say for Fort Richmond. This community have a lot of trees."
   ]
  },
  {
   "attachments": {},
   "cell_type": "markdown",
   "metadata": {},
   "source": [
    "### Dog"
   ]
  },
  {
   "cell_type": "code",
   "execution_count": null,
   "metadata": {},
   "outputs": [],
   "source": [
    "plot_events([1])"
   ]
  },
  {
   "attachments": {},
   "cell_type": "markdown",
   "metadata": {},
   "source": [
    "1. Are River Park South and Dakota Crossing old communities?\n",
    "1. It seems that there is a positive correlation between the population density and the dog complains, also the age of the community. \n"
   ]
  },
  {
   "attachments": {},
   "cell_type": "markdown",
   "metadata": {},
   "source": [
    "### Water related\n"
   ]
  },
  {
   "cell_type": "code",
   "execution_count": null,
   "metadata": {},
   "outputs": [],
   "source": [
    "plot_events([2])"
   ]
  },
  {
   "cell_type": "code",
   "execution_count": null,
   "metadata": {},
   "outputs": [],
   "source": [
    "plot_events([12])"
   ]
  },
  {
   "cell_type": "code",
   "execution_count": null,
   "metadata": {},
   "outputs": [],
   "source": [
    "plot_events([17])"
   ]
  },
  {
   "attachments": {},
   "cell_type": "markdown",
   "metadata": {},
   "source": [
    "## Top N Overview"
   ]
  },
  {
   "attachments": {},
   "cell_type": "markdown",
   "metadata": {},
   "source": [
    "### Top Neighbourhood from each ward"
   ]
  },
  {
   "cell_type": "code",
   "execution_count": null,
   "metadata": {},
   "outputs": [],
   "source": [
    "wards = DF[\"Ward\"].dropna().unique().tolist()\n",
    "\n",
    "for ward in wards:\n",
    "    print(f\"For ward {ward}, the top neighbourhood is:\")\n",
    "    print(DF.query(column_contains(\"Ward\", [ward])).groupby(\"Neighbourhood\").size().sort_values(ascending=False)[0:1])"
   ]
  },
  {
   "attachments": {},
   "cell_type": "markdown",
   "metadata": {},
   "source": [
    "### Top request from each ward"
   ]
  },
  {
   "cell_type": "code",
   "execution_count": null,
   "metadata": {},
   "outputs": [],
   "source": [
    "wards = DF[\"Ward\"].dropna().unique().tolist()\n",
    "n = 5\n",
    "\n",
    "for ward in wards:\n",
    "    print(f\"For ward {ward}, the top {n} requests are:\")\n",
    "    print(DF.query(column_contains(\"Ward\", [ward])).groupby(\"Service Area and Request\").size().sort_values(ascending=False)[0:n])"
   ]
  },
  {
   "attachments": {},
   "cell_type": "markdown",
   "metadata": {},
   "source": [
    "### Top 10 Neighborhoods's request"
   ]
  },
  {
   "cell_type": "code",
   "execution_count": null,
   "metadata": {},
   "outputs": [],
   "source": [
    "DF.query(column_contains(\"Neighbourhood\", top_n(10, \"Neighbourhood\"))).groupby(\"Service Area and Request\").size().sort_values().plot(kind=\"barh\")"
   ]
  }
 ],
 "metadata": {
  "kernelspec": {
   "display_name": "venv",
   "language": "python",
   "name": "python3"
  },
  "language_info": {
   "codemirror_mode": {
    "name": "ipython",
    "version": 3
   },
   "file_extension": ".py",
   "mimetype": "text/x-python",
   "name": "python",
   "nbconvert_exporter": "python",
   "pygments_lexer": "ipython3",
   "version": "3.11.2"
  },
  "orig_nbformat": 4,
  "vscode": {
   "interpreter": {
    "hash": "09304c1c62e9c9bff6a953dd4129f87c3b9520a4e04706695201cb53f3cc0be8"
   }
  }
 },
 "nbformat": 4,
 "nbformat_minor": 2
}
